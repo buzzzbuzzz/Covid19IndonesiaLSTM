{
 "cells": [
  {
   "cell_type": "code",
   "execution_count": 1,
   "id": "137dc180-d71e-46b5-9118-2883e4318c64",
   "metadata": {},
   "outputs": [],
   "source": [
    "import numpy as np\n",
    "import pandas as pd\n",
    "import matplotlib.pyplot as plt\n",
    "import seaborn as sns\n",
    "import os\n",
    "import math\n",
    "import smtplib\n",
    "from statsmodels.tsa.arima_model import ARIMA\n",
    "from datetime import datetime\n",
    "from email.message import EmailMessage\n",
    "from sklearn.metrics import mean_squared_error\n",
    "from statsmodels.tsa.statespace.sarimax import SARIMAX\n",
    "from statsmodels.tsa.stattools import adfuller\n",
    "from statsmodels.tsa.seasonal import seasonal_decompose\n",
    "from statsmodels.graphics.tsaplots import plot_acf\n",
    "from statsmodels.graphics.tsaplots import plot_pacf"
   ]
  },
  {
   "cell_type": "code",
   "execution_count": 2,
   "id": "0b0bd74b-4c6c-4fb2-bac5-8a73bb9cf998",
   "metadata": {},
   "outputs": [],
   "source": [
    "df = pd.read_excel(\"PositiveCase.xlsx\")"
   ]
  },
  {
   "cell_type": "code",
   "execution_count": 3,
   "id": "85bba39e-d7e7-455c-a04b-41331d20051b",
   "metadata": {},
   "outputs": [
    {
     "data": {
      "text/html": [
       "<div>\n",
       "<style scoped>\n",
       "    .dataframe tbody tr th:only-of-type {\n",
       "        vertical-align: middle;\n",
       "    }\n",
       "\n",
       "    .dataframe tbody tr th {\n",
       "        vertical-align: top;\n",
       "    }\n",
       "\n",
       "    .dataframe thead th {\n",
       "        text-align: right;\n",
       "    }\n",
       "</style>\n",
       "<table border=\"1\" class=\"dataframe\">\n",
       "  <thead>\n",
       "    <tr style=\"text-align: right;\">\n",
       "      <th></th>\n",
       "      <th>Date</th>\n",
       "      <th>New_Positive</th>\n",
       "    </tr>\n",
       "  </thead>\n",
       "  <tbody>\n",
       "    <tr>\n",
       "      <th>0</th>\n",
       "      <td>2020-03-02</td>\n",
       "      <td>2</td>\n",
       "    </tr>\n",
       "    <tr>\n",
       "      <th>1</th>\n",
       "      <td>2020-03-03</td>\n",
       "      <td>0</td>\n",
       "    </tr>\n",
       "    <tr>\n",
       "      <th>2</th>\n",
       "      <td>2020-03-04</td>\n",
       "      <td>0</td>\n",
       "    </tr>\n",
       "    <tr>\n",
       "      <th>3</th>\n",
       "      <td>2020-03-05</td>\n",
       "      <td>0</td>\n",
       "    </tr>\n",
       "    <tr>\n",
       "      <th>4</th>\n",
       "      <td>2020-03-06</td>\n",
       "      <td>2</td>\n",
       "    </tr>\n",
       "    <tr>\n",
       "      <th>...</th>\n",
       "      <td>...</td>\n",
       "      <td>...</td>\n",
       "    </tr>\n",
       "    <tr>\n",
       "      <th>754</th>\n",
       "      <td>2022-03-27</td>\n",
       "      <td>3077</td>\n",
       "    </tr>\n",
       "    <tr>\n",
       "      <th>755</th>\n",
       "      <td>2022-03-28</td>\n",
       "      <td>2798</td>\n",
       "    </tr>\n",
       "    <tr>\n",
       "      <th>756</th>\n",
       "      <td>2022-03-29</td>\n",
       "      <td>3895</td>\n",
       "    </tr>\n",
       "    <tr>\n",
       "      <th>757</th>\n",
       "      <td>2022-03-30</td>\n",
       "      <td>3840</td>\n",
       "    </tr>\n",
       "    <tr>\n",
       "      <th>758</th>\n",
       "      <td>2022-03-31</td>\n",
       "      <td>3332</td>\n",
       "    </tr>\n",
       "  </tbody>\n",
       "</table>\n",
       "<p>759 rows × 2 columns</p>\n",
       "</div>"
      ],
      "text/plain": [
       "          Date  New_Positive\n",
       "0   2020-03-02             2\n",
       "1   2020-03-03             0\n",
       "2   2020-03-04             0\n",
       "3   2020-03-05             0\n",
       "4   2020-03-06             2\n",
       "..         ...           ...\n",
       "754 2022-03-27          3077\n",
       "755 2022-03-28          2798\n",
       "756 2022-03-29          3895\n",
       "757 2022-03-30          3840\n",
       "758 2022-03-31          3332\n",
       "\n",
       "[759 rows x 2 columns]"
      ]
     },
     "execution_count": 3,
     "metadata": {},
     "output_type": "execute_result"
    }
   ],
   "source": [
    "df"
   ]
  },
  {
   "cell_type": "code",
   "execution_count": 4,
   "id": "a9facde0-9ecb-490c-a9a4-caac37f95ac2",
   "metadata": {},
   "outputs": [],
   "source": [
    "# df.index = pd.to_datetime(df['Date'])\n",
    "# df.drop(columns='Date',inplace=True)\n",
    "# df.head()"
   ]
  },
  {
   "cell_type": "code",
   "execution_count": 5,
   "id": "be98769f-b806-46aa-bd9e-93675e8cb5cf",
   "metadata": {},
   "outputs": [
    {
     "data": {
      "image/png": "[encoded data removed]",
      "text/plain": [
       "<Figure size 432x216 with 1 Axes>"
      ]
     },
     "metadata": {
      "needs_background": "light"
     },
     "output_type": "display_data"
    }
   ],
   "source": [
    "# Line plots of time series\n",
    "fig, ax = plt.subplots(figsize=(6,3))\n",
    "fig.suptitle('Time Series Data')\n",
    "df.New_Positive.plot(ax=ax)\n",
    "plt.show()"
   ]
  },
  {
   "cell_type": "markdown",
   "id": "7e216bfe",
   "metadata": {},
   "source": [
    "ADF TEST"
   ]
  },
  {
   "cell_type": "code",
   "execution_count": 6,
   "id": "2e5b40f5-4635-48ea-b643-286685f52501",
   "metadata": {},
   "outputs": [
    {
     "name": "stdout",
     "output_type": "stream",
     "text": [
      "ADF Statistic: 0.7966155841644493\n",
      "p-value: 0.01\n",
      "num lags: 17\n",
      "Critial Values:\n",
      "   10% : 0.347\n",
      "   5% : 0.463\n",
      "   2.5% : 0.574\n",
      "   1% : 0.739\n",
      "Result: The series is stationary\n"
     ]
    },
    {
     "name": "stderr",
     "output_type": "stream",
     "text": [
      "C:\\Users\\Bryan\\anaconda3\\lib\\site-packages\\statsmodels\\tsa\\stattools.py:2018: InterpolationWarning: The test statistic is outside of the range of p-values available in the\n",
      "look-up table. The actual p-value is smaller than the p-value returned.\n",
      "\n",
      "  warnings.warn(\n"
     ]
    }
   ],
   "source": [
    "from statsmodels.tsa.stattools import kpss\n",
    "# result = adfuller(df.New_Positive)\n",
    "def adfuller(series, **kw):    \n",
    "    statistic, p_value, n_lags, critical_values = kpss(series, **kw)\n",
    "    # Format Output\n",
    "    print(f'ADF Statistic: {statistic}')\n",
    "    print(f'p-value: {p_value}')\n",
    "    print(f'num lags: {n_lags}')\n",
    "    print('Critial Values:')\n",
    "    for key, value in critical_values.items():\n",
    "        print(f'   {key} : {value}')\n",
    "    print(f'Result: The series is {\"not \" if p_value > 0.05 else \"\"}stationary')\n",
    "# print('ADF Statistic: %f' % result[0])\n",
    "# print('p-value: %f' % result[1])\n",
    "# print('Number of lags considered for the test: %f' % result[2])\n",
    "# print('The critical value cutoffs: %f' % result[3])\n",
    "adfuller(df.New_Positive)"
   ]
  },
  {
   "cell_type": "markdown",
   "id": "46e52a2a",
   "metadata": {},
   "source": [
    "KPSS TEST FOR STATIONARITY\n",
    "machinelearningplus.com/time-series/kpss-test-for-stationarity/"
   ]
  },
  {
   "cell_type": "code",
   "execution_count": 7,
   "id": "17deeda4",
   "metadata": {},
   "outputs": [
    {
     "name": "stdout",
     "output_type": "stream",
     "text": [
      "KPSS Statistic: 0.09038646726809786\n",
      "p-value: 0.1\n",
      "num lags: 17\n",
      "Critial Values:\n",
      "   10% : 0.119\n",
      "   5% : 0.146\n",
      "   2.5% : 0.176\n",
      "   1% : 0.216\n",
      "Result: The series is stationary\n"
     ]
    },
    {
     "name": "stderr",
     "output_type": "stream",
     "text": [
      "C:\\Users\\Bryan\\anaconda3\\lib\\site-packages\\statsmodels\\tsa\\stattools.py:2022: InterpolationWarning: The test statistic is outside of the range of p-values available in the\n",
      "look-up table. The actual p-value is greater than the p-value returned.\n",
      "\n",
      "  warnings.warn(\n"
     ]
    }
   ],
   "source": [
    "def kpss_test(series, **kw):    \n",
    "    statistic, p_value, n_lags, critical_values = kpss(series, **kw)\n",
    "    # Format Output\n",
    "    print(f'KPSS Statistic: {statistic}')\n",
    "    print(f'p-value: {p_value}')\n",
    "    print(f'num lags: {n_lags}')\n",
    "    print('Critial Values:')\n",
    "    for key, value in critical_values.items():\n",
    "        print(f'   {key} : {value}')\n",
    "    print(f'Result: The series is {\"not \" if p_value < 0.05 else \"\"}stationary')\n",
    "\n",
    "kpss_test(df.New_Positive, regression='ct')"
   ]
  },
  {
   "cell_type": "markdown",
   "id": "c7ce26dd",
   "metadata": {},
   "source": [
    "# ACF dan PACF"
   ]
  },
  {
   "cell_type": "code",
   "execution_count": 8,
   "id": "40bda5dd",
   "metadata": {},
   "outputs": [
    {
     "name": "stderr",
     "output_type": "stream",
     "text": [
      "C:\\Users\\Bryan\\anaconda3\\lib\\site-packages\\statsmodels\\graphics\\tsaplots.py:348: FutureWarning: The default method 'yw' can produce PACF values outside of the [-1,1] interval. After 0.13, the default will change tounadjusted Yule-Walker ('ywm'). You can use this method now by setting method='ywm'.\n",
      "  warnings.warn(\n"
     ]
    },
    {
     "data": {
      "image/png": "[encoded data removed]",
      "text/plain": [
       "<Figure size 432x288 with 1 Axes>"
      ]
     },
     "metadata": {
      "needs_background": "light"
     },
     "output_type": "display_data"
    },
    {
     "data": {
      "image/png": "[encoded data removed]",
      "text/plain": [
       "<Figure size 432x288 with 1 Axes>"
      ]
     },
     "metadata": {
      "needs_background": "light"
     },
     "output_type": "display_data"
    }
   ],
   "source": [
    "from statsmodels.graphics.tsaplots import plot_acf, plot_pacf\n",
    "fig1=plot_acf(df['New_Positive'].dropna())\n",
    "fig2=plot_pacf(df['New_Positive'].dropna())"
   ]
  },
  {
   "cell_type": "code",
   "execution_count": null,
   "id": "b4dde780",
   "metadata": {},
   "outputs": [],
   "source": []
  },
  {
   "cell_type": "markdown",
   "id": "aa63bfb9",
   "metadata": {},
   "source": [
    "# Train and Test"
   ]
  },
  {
   "cell_type": "code",
   "execution_count": 9,
   "id": "fa33871b",
   "metadata": {},
   "outputs": [
    {
     "name": "stdout",
     "output_type": "stream",
     "text": [
      "(607,) (152,)\n"
     ]
    }
   ],
   "source": [
    "# train=df.New_Positive.iloc[:-152]\n",
    "# test=df.New_Positive.iloc[-152:]\n",
    "# print(train.shape,test.shape)"
   ]
  },
  {
   "cell_type": "code",
   "execution_count": 22,
   "id": "e14d7cd7",
   "metadata": {
    "scrolled": true
   },
   "outputs": [
    {
     "name": "stdout",
     "output_type": "stream",
     "text": [
      "(607, 2) (152, 2)\n"
     ]
    }
   ],
   "source": [
    "train=df.iloc[:-152]\n",
    "test=df.iloc[-152:]\n",
    "print(train.shape,test.shape)"
   ]
  },
  {
   "cell_type": "markdown",
   "id": "fccf79d6",
   "metadata": {},
   "source": [
    "# Modeling"
   ]
  },
  {
   "cell_type": "code",
   "execution_count": 11,
   "id": "9eca5ba8-3f5c-4be2-a4a8-60031b5102da",
   "metadata": {},
   "outputs": [],
   "source": [
    "# import numpy as np, pandas as pd\n",
    "# from statsmodels.graphics.tsaplots import plot_acf, plot_pacf\n",
    "# import matplotlib.pyplot as plt\n",
    "# plt.rcParams.update({'figure.figsize':(9,7), 'figure.dpi':120})\n",
    "\n",
    "# # Original Series\n",
    "# fig, axes = plt.subplots(3, 2, sharex=True)\n",
    "# axes[0, 0].plot(df.New_Positive); axes[0, 0].set_title('Original Series')\n",
    "# plot_acf(df.New_Positive, ax=axes[0, 1])\n",
    "\n",
    "# # 1st Differencing\n",
    "# axes[1, 0].plot(df.New_Positive.diff()); axes[1, 0].set_title('1st Order Differencing')\n",
    "# plot_acf(df.New_Positive.diff().dropna(), ax=axes[1, 1])\n",
    "\n",
    "# # 2nd Differencing\n",
    "# axes[2, 0].plot(df.New_Positive.diff().diff()); axes[2, 0].set_title('2nd Order Differencing')\n",
    "# plot_acf(df.New_Positive.diff().diff().dropna(), ax=axes[2, 1])\n",
    "\n",
    "# plt.show()"
   ]
  },
  {
   "cell_type": "markdown",
   "id": "abe42351-e5c5-4d49-b704-6f3dd15ffc90",
   "metadata": {},
   "source": [
    "# ARIMA"
   ]
  },
  {
   "cell_type": "code",
   "execution_count": 23,
   "id": "76bc7767",
   "metadata": {},
   "outputs": [
    {
     "name": "stdout",
     "output_type": "stream",
     "text": [
      "                               SARIMAX Results                                \n",
      "==============================================================================\n",
      "Dep. Variable:           New_Positive   No. Observations:                  607\n",
      "Model:                 ARIMA(1, 0, 0)   Log Likelihood               -5474.640\n",
      "Date:                Thu, 09 Jun 2022   AIC                          10955.281\n",
      "Time:                        08:46:45   BIC                          10968.506\n",
      "Sample:                             0   HQIC                         10960.427\n",
      "                                - 607                                         \n",
      "Covariance Type:                  opg                                         \n",
      "==============================================================================\n",
      "                 coef    std err          z      P>|z|      [0.025      0.975]\n",
      "------------------------------------------------------------------------------\n",
      "const       6991.4793   6650.151      1.051      0.293   -6042.578       2e+04\n",
      "ar.L1          0.9778      0.006    159.847      0.000       0.966       0.990\n",
      "sigma2      3.977e+06   7.11e+04     55.955      0.000    3.84e+06    4.12e+06\n",
      "===================================================================================\n",
      "Ljung-Box (L1) (Q):                   0.40   Jarque-Bera (JB):             15568.01\n",
      "Prob(Q):                              0.53   Prob(JB):                         0.00\n",
      "Heteroskedasticity (H):             145.23   Skew:                             2.45\n",
      "Prob(H) (two-sided):                  0.00   Kurtosis:                        27.32\n",
      "===================================================================================\n",
      "\n",
      "Warnings:\n",
      "[1] Covariance matrix calculated using the outer product of gradients (complex-step).\n"
     ]
    }
   ],
   "source": [
    "from statsmodels.tsa.arima.model import ARIMA\n",
    "model1 = ARIMA(train.New_Positive, order=(1,0,0))\n",
    "model_fit1 = model1.fit()\n",
    "print(model_fit1.summary())"
   ]
  },
  {
   "cell_type": "code",
   "execution_count": 28,
   "id": "c15acbb0",
   "metadata": {},
   "outputs": [],
   "source": [
    "# fc, se, conf = model_fit1.forecast(152, alpha=0.05)  # 95% conf\n",
    "# # Make as pandas series\n",
    "# fc_series = pd.Series(fc, index=test.index)\n",
    "# lower_series = pd.Series(conf[:, 0], index=test.index)\n",
    "# upper_series = pd.Series(conf[:, 1], index=test.index)\n",
    "\n",
    "# # Plot\n",
    "# plt.figure(figsize=(12,5), dpi=100)\n",
    "# plt.plot(train, label='training')\n",
    "# plt.plot(test, label='actual')\n",
    "# plt.plot(fc_series, label='forecast')\n",
    "# plt.fill_between(lower_series.index, lower_series, upper_series, \n",
    "#                  color='k', alpha=.15)\n",
    "# plt.title('Forecast vs Actuals')\n",
    "# plt.legend(loc='upper left', fontsize=8)\n",
    "# plt.show()"
   ]
  },
  {
   "cell_type": "code",
   "execution_count": 15,
   "id": "11cf75e2",
   "metadata": {},
   "outputs": [],
   "source": [
    "# # Accuracy metrics\n",
    "# def forecast_accuracy(forecast, actual):\n",
    "#     mape = np.mean(np.abs(forecast - actual)/np.abs(actual))  # MAPE\n",
    "#     me = np.mean(forecast - actual)             # ME\n",
    "#     mae = np.mean(np.abs(forecast - actual))    # MAE\n",
    "#     mpe = np.mean((forecast - actual)/actual)   # MPE\n",
    "#     rmse = np.mean((forecast - actual)**2)**.5  # RMSE\n",
    "#     corr = np.corrcoef(forecast, actual)[0,1]   # corr\n",
    "#     mins = np.amin(np.hstack([forecast[:,None], \n",
    "#                               actual[:,None]]), axis=1)\n",
    "#     maxs = np.amax(np.hstack([forecast[:,None], \n",
    "#                               actual[:,None]]), axis=1)\n",
    "#     minmax = 1 - np.mean(mins/maxs)             # minmax\n",
    "#     acf1 = acf(fc-test)[1]                      # ACF1\n",
    "#     return({'mape':mape, 'me':me, 'mae': mae, \n",
    "#             'mpe': mpe, 'rmse':rmse, 'acf1':acf1, \n",
    "#             'corr':corr, 'minmax':minmax})\n",
    "\n",
    "# forecast_accuracy(model_fit1, test.values)"
   ]
  },
  {
   "cell_type": "code",
   "execution_count": 26,
   "id": "e74f1cbe-5497-4dae-8c2a-5bc479c17115",
   "metadata": {},
   "outputs": [
    {
     "ename": "TypeError",
     "evalue": "predict() missing 1 required positional argument: 'params'",
     "output_type": "error",
     "traceback": [
      "\u001b[1;31m---------------------------------------------------------------------------\u001b[0m",
      "\u001b[1;31mTypeError\u001b[0m                                 Traceback (most recent call last)",
      "Input \u001b[1;32mIn [26]\u001b[0m, in \u001b[0;36m<cell line: 1>\u001b[1;34m()\u001b[0m\n\u001b[1;32m----> 1\u001b[0m forecast \u001b[38;5;241m=\u001b[39m \u001b[43mmodel1\u001b[49m\u001b[38;5;241;43m.\u001b[39;49m\u001b[43mpredict\u001b[49m\u001b[43m(\u001b[49m\u001b[43mn_periods\u001b[49m\u001b[38;5;241;43m=\u001b[39;49m\u001b[38;5;28;43mlen\u001b[39;49m\u001b[43m(\u001b[49m\u001b[43mtest\u001b[49m\u001b[43m)\u001b[49m\u001b[43m,\u001b[49m\u001b[43m \u001b[49m\u001b[43mexogenous\u001b[49m\u001b[38;5;241;43m=\u001b[39;49m\u001b[38;5;28;43;01mNone\u001b[39;49;00m\u001b[43m,\u001b[49m\u001b[43morder\u001b[49m\u001b[38;5;241;43m=\u001b[39;49m\u001b[43m(\u001b[49m\u001b[38;5;241;43m1\u001b[39;49m\u001b[43m,\u001b[49m\u001b[38;5;241;43m0\u001b[39;49m\u001b[43m,\u001b[49m\u001b[38;5;241;43m0\u001b[39;49m\u001b[43m)\u001b[49m\u001b[43m)\u001b[49m\n",
      "\u001b[1;31mTypeError\u001b[0m: predict() missing 1 required positional argument: 'params'"
     ]
    }
   ],
   "source": [
    "forecast = model1.predict(n_periods=len(test), exogenous=None,order=(1,0,0))"
   ]
  },
  {
   "cell_type": "code",
   "execution_count": null,
   "id": "09cbf69c",
   "metadata": {},
   "outputs": [],
   "source": [
    "from statsmodels.tsa.arima_model import ARIMA\n",
    "import pmdarima as pm\n",
    "model = pm.auto_arima(train, start_p=1, start_q=0,\n",
    "                      test='adf',       # use adftest to find optimal 'd'\n",
    "                      max_p=5, max_q=5, # maximum p and q\n",
    "                      m=1,              # frequency of series\n",
    "                      d=0,           # let model determine 'd'\n",
    "                      seasonal=False,   # No Seasonality\n",
    "                      start_P=0, \n",
    "                      D=0, \n",
    "                      trace=True,\n",
    "                      error_action='ignore',  \n",
    "                      suppress_warnings=True, \n",
    "                      stepwise=True)\n",
    "\n",
    "print(model.summary())"
   ]
  },
  {
   "cell_type": "code",
   "execution_count": null,
   "id": "682e1415",
   "metadata": {},
   "outputs": [],
   "source": [
    "model.plot_diagnostics(figsize=(7,5))\n",
    "plt.show()"
   ]
  },
  {
   "cell_type": "markdown",
   "id": "88ca0a4e",
   "metadata": {},
   "source": [
    "# The Shapiro-Wilk test is a test of normality"
   ]
  },
  {
   "cell_type": "code",
   "execution_count": null,
   "id": "5124b92f",
   "metadata": {},
   "outputs": [],
   "source": [
    "from scipy.stats import shapiro"
   ]
  },
  {
   "cell_type": "code",
   "execution_count": null,
   "id": "248ebd6a",
   "metadata": {},
   "outputs": [],
   "source": [
    "residuals = pd.DataFrame(model_fit1.resid)"
   ]
  },
  {
   "cell_type": "code",
   "execution_count": null,
   "id": "ea6db742",
   "metadata": {},
   "outputs": [],
   "source": [
    "shapiro(residuals)"
   ]
  },
  {
   "cell_type": "code",
   "execution_count": null,
   "id": "93b9dc65",
   "metadata": {},
   "outputs": [],
   "source": [
    "kstest(residuals, 'norm')"
   ]
  },
  {
   "cell_type": "markdown",
   "id": "acd8e685",
   "metadata": {},
   "source": [
    "# The Ljung-Box test is a statistical test that checks if autocorrelation exists in a time series.\n",
    "\n",
    "It uses the following hypotheses:\n",
    "\n",
    "H0: The residuals are independently distributed.\n",
    "\n",
    "HA: The residuals are not independently distributed; they exhibit serial correlation."
   ]
  },
  {
   "cell_type": "code",
   "execution_count": null,
   "id": "06864104",
   "metadata": {},
   "outputs": [],
   "source": [
    "import statsmodels.api as sm\n",
    "sm.stats.acorr_ljungbox(residuals, lags=[1])"
   ]
  },
  {
   "cell_type": "markdown",
   "id": "f39693a7",
   "metadata": {},
   "source": [
    "the p-value of the test be greater than 0.05 because this means the residuals for  time series model are independent"
   ]
  },
  {
   "cell_type": "code",
   "execution_count": null,
   "id": "c2d36f26",
   "metadata": {},
   "outputs": [],
   "source": [
    "from sklearn.metrics import mean_squared_error\n",
    "from math import sqrt\n",
    "\n",
    "rms = sqrt(mean_squared_error(y_test, y_pred))"
   ]
  },
  {
   "cell_type": "code",
   "execution_count": null,
   "id": "bed59052",
   "metadata": {},
   "outputs": [],
   "source": []
  },
  {
   "cell_type": "code",
   "execution_count": null,
   "id": "f4f97cbd",
   "metadata": {},
   "outputs": [],
   "source": [
    "# Plot residual errors\n",
    "residuals = pd.DataFrame(model_fit1.resid)\n",
    "fig, ax = plt.subplots(1,2)\n",
    "residuals.plot(title=\"Residuals\", ax=ax[0])\n",
    "residuals.plot(kind='kde', title='Density', ax=ax[1])\n",
    "plt.show()"
   ]
  },
  {
   "cell_type": "code",
   "execution_count": null,
   "id": "ca6302d5",
   "metadata": {},
   "outputs": [],
   "source": []
  },
  {
   "cell_type": "code",
   "execution_count": null,
   "id": "d5ee390d",
   "metadata": {},
   "outputs": [],
   "source": [
    "model_fit1.plot_predict(dynamic=False)\n",
    "plt.show()"
   ]
  },
  {
   "cell_type": "code",
   "execution_count": null,
   "id": "af8a1e0b",
   "metadata": {},
   "outputs": [],
   "source": [
    "start = len(train)\n",
    "end = len(train)+len(test)-1\n",
    "forecast = model1.predict(start=start,end=end,dynamic=True,exog=None)\n",
    "test[\"Forecast_ARIMAX\"] = forecast\n",
    "test[[\"New_Positive\", \"Forecast_ARIMAX\"]].plot(figsize=(14, 7))"
   ]
  },
  {
   "cell_type": "code",
   "execution_count": null,
   "id": "8d0a9d63",
   "metadata": {},
   "outputs": [],
   "source": [
    "from statsmodels.tsa.arima.model import ARIMA\n",
    "model1 = ARIMA(df.New_Positive, order=(3,1,4))\n",
    "model_fit1 = model1.fit(train.New_Positive)\n",
    "print(model_fit1.summary())"
   ]
  },
  {
   "cell_type": "code",
   "execution_count": null,
   "id": "a5855b0e",
   "metadata": {},
   "outputs": [],
   "source": [
    "import statsmodels.api as sm\n",
    "from numpy.random import seed\n",
    "from numpy.random import poisson\n",
    "from scipy.stats import kstest\n",
    "\n",
    "#set seed (e.g. make this example reproducible)\n",
    "# seed(0)\n",
    "# sm.stats.acorr_ljungbox(model1, lags=None)\n",
    "kstest(train, 'norm')"
   ]
  },
  {
   "cell_type": "code",
   "execution_count": null,
   "id": "ca0bb8e9-2809-4427-96f9-f044c09f2bcf",
   "metadata": {},
   "outputs": [],
   "source": [
    "from statsmodels.tsa.arima.model import ARIMA\n",
    "model2 = ARIMA(df.New_Positive, order=(1,1,2))\n",
    "model_fit2 = model.fit()\n",
    "print(model_fit2.summary())"
   ]
  },
  {
   "cell_type": "code",
   "execution_count": null,
   "id": "7f1dfc8c-708f-4c9d-8e33-101727c833a4",
   "metadata": {},
   "outputs": [],
   "source": [
    "model = ARIMA(df.New_Positive, order=(5,1,0))\n",
    "model_fit = model.fit()\n",
    "print(model_fit.summary())"
   ]
  },
  {
   "cell_type": "code",
   "execution_count": null,
   "id": "6c0edcf3-fc6e-48f7-8495-f83a2a787128",
   "metadata": {},
   "outputs": [],
   "source": [
    "# Plot residual errors\n",
    "residuals = pd.DataFrame(model_fit.resid)\n",
    "fig, ax = plt.subplots(1,2)\n",
    "residuals.plot(title=\"Residuals\", ax=ax[0])\n",
    "residuals.plot(kind='kde', title='Density', ax=ax[1])\n",
    "plt.show()"
   ]
  },
  {
   "cell_type": "code",
   "execution_count": null,
   "id": "2d46b8dd-5fe3-4547-9bdf-48f2617f03cf",
   "metadata": {},
   "outputs": [],
   "source": [
    "from statsmodels.graphics.tsaplots import plot_predict\n",
    "# Actual vs Fitted\n",
    "model_fit.plot_predict(dynamic=False)\n",
    "plt.show()"
   ]
  },
  {
   "cell_type": "code",
   "execution_count": null,
   "id": "8a581a65-687f-42d3-9022-715728d07f25",
   "metadata": {},
   "outputs": [],
   "source": [
    "from statsmodels.tsa.stattools import acf\n",
    "\n",
    "# Create Training and Test\n",
    "train=df.New_Positive.iloc[:-152]\n",
    "test=df.New_Positive.iloc[-152:]"
   ]
  },
  {
   "cell_type": "code",
   "execution_count": null,
   "id": "7428d044-14ea-4bdc-abaf-fb7db816576d",
   "metadata": {},
   "outputs": [],
   "source": [
    "model = ARIMA(train, order=(1,0,5))  \n",
    "fitted = model.fit()  \n",
    "\n",
    "# Forecast\n",
    "fc, se, conf = fitted.forecast(152, alpha=0.05)  # 95% conf\n",
    "\n",
    "# Make as pandas series\n",
    "fc_series = pd.Series(fc, index=test.index)\n",
    "lower_series = pd.Series(conf[:, 0], index=test.index)\n",
    "upper_series = pd.Series(conf[:, 1], index=test.index)\n",
    "\n",
    "# Plot\n",
    "plt.figure(figsize=(12,5), dpi=100)\n",
    "plt.plot(train, label='training')\n",
    "plt.plot(test, label='actual')\n",
    "plt.plot(fc_series, label='forecast')\n",
    "plt.fill_between(lower_series.index, lower_series, upper_series, \n",
    "                 color='k', alpha=.15)\n",
    "plt.title('Forecast vs Actuals')\n",
    "plt.legend(loc='upper left', fontsize=8)\n",
    "plt.show()"
   ]
  }
 ],
 "metadata": {
  "kernelspec": {
   "display_name": "Python 3 (ipykernel)",
   "language": "python",
   "name": "python3"
  },
  "language_info": {
   "codemirror_mode": {
    "name": "ipython",
    "version": 3
   },
   "file_extension": ".py",
   "mimetype": "text/x-python",
   "name": "python",
   "nbconvert_exporter": "python",
   "pygments_lexer": "ipython3",
   "version": "3.8.8"
  }
 },
 "nbformat": 4,
 "nbformat_minor": 5
}
